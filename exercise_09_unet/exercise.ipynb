{
 "cells": [
  {
   "cell_type": "markdown",
   "metadata": {},
   "source": [
    "# Exercise 9: U-Net"
   ]
  },
  {
   "cell_type": "markdown",
   "metadata": {},
   "source": [
    "U-Net is a convolutional neural network that was developed initially for biomedical image segmentation. This week, we will be working on implementing the U-Net architecture using PyTorch and performing an image segmentation task.\n",
    "\n",
    "This network is a bit more complicated than the MLP and simple CNN you have seen so far, but it is a nice example of what PyTorch allows to do!"
   ]
  },
  {
   "cell_type": "code",
   "execution_count": 1,
   "metadata": {},
   "outputs": [],
   "source": [
    "import numpy as np\n",
    "import copy\n",
    "import time\n",
    "\n",
    "import torch\n",
    "import torch.nn as nn\n",
    "from torch.utils.data import Dataset, DataLoader\n",
    "import torch.optim as optim\n",
    "from torch.optim import lr_scheduler\n",
    "import torch.nn.functional as F\n",
    "\n",
    "import helper\n",
    "import simulation\n",
    "\n",
    "%matplotlib inline\n",
    "%load_ext autoreload\n",
    "%autoreload 2"
   ]
  },
  {
   "cell_type": "markdown",
   "metadata": {},
   "source": [
    "Today we will be working with a small dataset of synthetic images. Let us generate 2 images with their segmentation masks."
   ]
  },
  {
   "cell_type": "code",
   "execution_count": 2,
   "metadata": {},
   "outputs": [
    {
     "name": "stdout",
     "output_type": "stream",
     "text": [
      "Input images have shape (2, 1, 80, 80). Min value in image: 0. Max value in image: 255.\n",
      "Image masks have shape (2, 5, 80, 80). Min value in mask: 0.0. Max value in mask: 1.0.\n"
     ]
    }
   ],
   "source": [
    "# Generate some random images\n",
    "input_images, target_masks = simulation.generate_random_data(80, 80, count=2)\n",
    "\n",
    "print(f\"Input images have shape {input_images.shape}. Min value in image: {input_images.min()}. Max value in image: {input_images.max()}.\")\n",
    "print(f\"Image masks have shape {target_masks.shape}. Min value in mask: {target_masks.min()}. Max value in mask: {target_masks.max()}.\")"
   ]
  },
  {
   "cell_type": "markdown",
   "metadata": {},
   "source": [
    "The input images have shape $(2, 1, 80, 80)$:  $2$ for the number of images, $1$ for the color channels (they are black and white in this case), and $(80,80)$ for the image height and width.\n",
    "\n",
    "The images contain 5 different shapes. For each input image we have a segmentation mask, with which we encode what shape the pixels in the image segment.\n",
    "\n",
    "The corresponding image masks have shape $(2, 5, 80, 80)$: $2$ for the number of images, $5$ for the one-hot encoding of what shape the pixel is a part of (see image below), and $(80,80)$ for the image height and width.\n",
    "\n",
    "Let us plot the image and the corresponding segmentation mask to get a better idea of our data."
   ]
  },
  {
   "cell_type": "code",
   "execution_count": 3,
   "metadata": {},
   "outputs": [
    {
     "data": {
      "text/plain": "<Figure size 800x800 with 4 Axes>",
      "image/png": "[encoded data removed]"
     },
     "metadata": {},
     "output_type": "display_data"
    }
   ],
   "source": [
    "# Change channel-order and make 3 channels just for plotting\n",
    "input_images_rgb = [x.astype(np.uint8).repeat(3,axis=0).transpose(1,2,0) for x in input_images]\n",
    "\n",
    "# Map each channel (i.e. class) to each color\n",
    "target_masks_rgb = [helper.masks_to_colorimg(x) for x in target_masks]\n",
    "\n",
    "# Left: Input image (black and white), Right: Target mask (5ch)\n",
    "helper.plot_side_by_side([input_images_rgb, target_masks_rgb])"
   ]
  },
  {
   "cell_type": "markdown",
   "metadata": {},
   "source": [
    "Now we will be using PyTorch's Dataset class for preparing the data. Our `SimDataset` class will inherit from PyTorch's dataset class. We need to overwrite the functions `__len__(self)`, and `__getitem__(self, idx)`.\n",
    "\n",
    "*  `__len__(self)`: returns the size of the dataset.\n",
    "\n",
    "* `__getitem__(self, idx)`: returns the data (and its target) sample of index `idx`.\n",
    "\n",
    "\n",
    "(Hint: The tutorial at https://pytorch.org/tutorials/beginner/data_loading_tutorial.html#dataset-class is very helpful and we encourage you to have a look at it. You can also add transformations for data augmentation etc. very easily!)"
   ]
  },
  {
   "cell_type": "code",
   "execution_count": 4,
   "metadata": {},
   "outputs": [],
   "source": [
    "class SimDataset(Dataset):\n",
    "    def __init__(self, count):\n",
    "        # We generate our data \n",
    "        self.input_images, self.target_masks = simulation.generate_random_data(80, 80, count=count)\n",
    "\n",
    "    def __len__(self):\n",
    "        ### WRITE YOUR CODE HERE. Return the size of the dataset\n",
    "        return self.input_images.size\n",
    "\n",
    "    def __getitem__(self, idx):\n",
    "        ### WRITE YOUR CODE HERE. Select data and mask at index idx.\n",
    "        return self.input_images[idx] , self.target_masks[idx]"
   ]
  },
  {
   "cell_type": "markdown",
   "metadata": {},
   "source": [
    "Now, we will use PyTorch's `DataLoader` class. This is an iterator which allows us to batch the data, shuffle it and load it with multiprocessing workers in parallel."
   ]
  },
  {
   "cell_type": "code",
   "execution_count": 5,
   "metadata": {},
   "outputs": [],
   "source": [
    "# Create the datasets and use PyTorch's DataLoader class.\n",
    "train_set = SimDataset(300)\n",
    "val_set = SimDataset(20)\n",
    "test_set = SimDataset(3)\n",
    "\n",
    "train_dataloader = DataLoader(train_set, batch_size=20, shuffle=True)\n",
    "val_dataloader= DataLoader(val_set, batch_size=20, shuffle=True)\n",
    "test_dataloader= DataLoader(test_set, batch_size=3, shuffle=False)"
   ]
  },
  {
   "cell_type": "markdown",
   "metadata": {},
   "source": [
    "Now that we have our Dataset and Dataloader, it is time to design our deep network! Since we are doing image segmentation, we choose to use a U-Net architecture here, which was first introduced in the paper \"U-Net: Convolutional Networks for Biomedical Image Segmentation\" ([link to paper](https://lmb.informatik.uni-freiburg.de/people/ronneber/u-net/) for the interested). The original architecture looks like this:"
   ]
  },
  {
   "cell_type": "markdown",
   "metadata": {},
   "source": [
    "<img src=\"img/unet.png\" width=800></img>"
   ]
  },
  {
   "cell_type": "markdown",
   "metadata": {},
   "source": [
    "We will quote the architecture description from the paper directly: \n",
    "\n",
    "> It consists of a contracting path (left side) and an expansive path (right side). \n",
    "\n",
    "> The contracting path follows the typical architecture of a convolutional network. It consists of the repeated application of **two 3x3 convolutions** (unpadded convolutions), each followed by a **rectified linear unit (ReLU)** and a **2x2 max pooling operation with stride 2** for downsampling. At each downsampling step we double the number of feature channels. \n",
    "\n",
    "\n",
    "> Every step in the expansive path consists of an **upsampling** of the feature map followed by a **2x2 convolution (“up-convolution”)** that halves the number of feature channels, a **concatenation with the correspondingly cropped feature map** from the contracting path, and **two 3x3 convolutions**, each followed by a **ReLU**. The cropping is necessary due to the loss of border pixels in every convolution. At the final layer a 1x1 convolution is used to map each 64- component feature vector to the desired number of classes. In total the network has 23 convolutional layers."
   ]
  },
  {
   "cell_type": "markdown",
   "metadata": {},
   "source": [
    "In our case, we make matters slightly simpler by using **padded convolutions with padding of size 1**, so that the image doesn't become smaller after the convolution operations. This way, **we do not have to crop** the feature map from the contracting path for the concatenation. We will also build a slightly smaller network, since our images are not so large in size to begin with. The network we want to implement is shown below."
   ]
  },
  {
   "cell_type": "markdown",
   "metadata": {},
   "source": [
    "<img src=\"img/unet-2.png\" width=800></img>"
   ]
  },
  {
   "cell_type": "markdown",
   "metadata": {},
   "source": [
    "So now lets code this! We would like to first create a module class for the double convolution operation (convolution -> batch norm -> ReLU -> convolution -> batch norm -> ReLU), since it is repeated several times in the architecture. This class inherits from PyTorch's module class. We use the [`nn.Sequential`](https://pytorch.org/docs/stable/generated/torch.nn.Sequential.html) to define the layers in this module. \n",
    "\n",
    "Just to show you how this works, we wrote the class for a single convolution followed by a Sigmoid operation called `DummyConv`. We then use this `DummyConv` module three times in the `DummyNetwork`. Study how this works. \n",
    "\n",
    "**Note:** [batch normalization](https://en.wikipedia.org/wiki/Batch_normalization) is a technique for normalizing each batch of data within the network, to help its training. If you haven't seen it in the lectures, you don't need to know its details."
   ]
  },
  {
   "cell_type": "code",
   "execution_count": 6,
   "metadata": {},
   "outputs": [],
   "source": [
    "class DummyConv(nn.Module):\n",
    "    \"\"\"A small module that implements (convolution => sigmoid).\n",
    "    It will be re-used as a build block to make a full network.\"\"\"\n",
    "\n",
    "    def __init__(self, in_channels, out_channels):            \n",
    "        super().__init__()\n",
    "        \n",
    "        # We build a sequence of layers with nn.Sequential().\n",
    "        self.single_conv = nn.Sequential(\n",
    "            nn.Conv2d(in_channels, out_channels, kernel_size=3, padding=1),\n",
    "            nn.Sigmoid(inplace=True)\n",
    "        )\n",
    "\n",
    "    def forward(self, x):\n",
    "        return self.single_conv(x)\n",
    "\n",
    "\n",
    "class DummyNetwork(nn.Module):\n",
    "    \"\"\"A network that uses the DummyConv modules above.\"\"\"\n",
    "\n",
    "    def __init__(self, n_channels):\n",
    "        super().__init__()\n",
    "        \n",
    "        self.initial_layer = DummyConv(n_channels, 64)\n",
    "        self.second_layer = DummyConv(64, 128)\n",
    "        self.third_layer = DummyConv(128, 256)\n",
    "\n",
    "    def forward(self, x):\n",
    "        x1 = self.initial_layer(x)\n",
    "        x2 = self.second_layer(x1)\n",
    "        x3 = self.third_layer(x2)\n",
    "        return x3"
   ]
  },
  {
   "cell_type": "markdown",
   "metadata": {},
   "source": [
    "Now you are ready to implement the `DoubleConv` module. Use the template above as help!"
   ]
  },
  {
   "cell_type": "code",
   "execution_count": 7,
   "metadata": {},
   "outputs": [],
   "source": [
    "class DoubleConv(nn.Module):\n",
    "    \"\"\"A module that will implement the following sequence of layers:\n",
    "    (convolution => batch normalization => ReLU => convolution => batch normalization => ReLU).\n",
    "    Batch normalization is a technique for normalization over mini-batches. \n",
    "    To use it in a CNN, you can use PyTorch's nn.BatchNorm2d layer:\n",
    "    https://pytorch.org/docs/stable/generated/torch.nn.BatchNorm2d.html.\n",
    "    \"\"\"\n",
    "    \n",
    "    def __init__(self, in_channels, out_channels):\n",
    "        super().__init__()\n",
    "\n",
    "         # We build a sequence of layers with nn.Sequential().\n",
    "        self.double_conv = nn.Sequential(\n",
    "            nn.Conv2d(in_channels, out_channels, kernel_size=3),\n",
    "            nn.BatchNorm2d(out_channels),\n",
    "            nn.Sigmoid(),\n",
    "\n",
    "            nn.Conv2d(out_channels, out_channels, kernel_size=3),\n",
    "            nn.BatchNorm2d(out_channels),\n",
    "            nn.Sigmoid()\n",
    "        )\n",
    "\n",
    "    def forward(self, x):\n",
    "        return self.double_conv(x)"
   ]
  },
  {
   "cell_type": "markdown",
   "metadata": {},
   "source": [
    "Now let us implement the `UNet` class, as we did in previous week's exercise. We've started the implementation as a hint and left the rest for you to fill.\n",
    "\n",
    "For the **up-and-conv 2x2** operation of the network, as shown on the illustrations, we will be using **Transposed Convolutions**. You can take a look at [`nn.ConvTranspose2d`](https://pytorch.org/docs/stable/generated/torch.nn.ConvTranspose2d) for the PyTorch implementation. *Hint:* You should take an interest in the arguments `kernel_size` and `stride`."
   ]
  },
  {
   "cell_type": "code",
   "execution_count": 8,
   "metadata": {},
   "outputs": [],
   "source": [
    "class UNet(nn.Module):\n",
    "    def __init__(self, input_channels, n_classes):\n",
    "        super().__init__()\n",
    "\n",
    "        # Beginning of the \"contracting\" part of the U-Net\n",
    "        self.dc1 = DoubleConv(input_channels, 64)\n",
    "        self.mp1 = nn.MaxPool2d(2)\n",
    "\n",
    "        self.dc2 = DoubleConv(64, 128)\n",
    "        self.mp2 = nn.MaxPool2d(2)\n",
    "\n",
    "        self.dc3 = DoubleConv(128, 256)\n",
    "        self.mp3 = nn.MaxPool2d(2)\n",
    "\n",
    "        self.dc4 = DoubleConv(256, 512)\n",
    "\n",
    "        self.up1 = nn.ConvTranspose2d(512, 256, kernel_size=2, stride=2)\n",
    "        self.dc5 = DoubleConv(256, 256)\n",
    "\n",
    "        self.up2 = nn.ConvTranspose2d(256, 128, kernel_size=2, stride=2)\n",
    "        self.dc6 = DoubleConv(128, 128)\n",
    "\n",
    "        # End of the \"expansive\" part of the U-Net\n",
    "        self.up3 = nn.ConvTranspose2d(128, 64, kernel_size=2, stride=2)\n",
    "        self.dc7 = DoubleConv(128, 64)\n",
    "        self.outc = nn.Conv2d(64, n_classes, kernel_size=1)\n",
    "\n",
    "    def forward(self, x):\n",
    "        \n",
    "        x1 = self.dc1(x)\n",
    "        x2 = self.mp1(x1)\n",
    "        x2 = self.dc2(x2)\n",
    "\n",
    "        x3 = self.mp2(x2)\n",
    "        x3 = self.dc3(x3)\n",
    "\n",
    "        x4 = self.mp3(x3)\n",
    "        x4 = self.dc4(x4)\n",
    "\n",
    "        # End of the \"contracting\" part\n",
    "\n",
    "        # Beginning of the \"expansive\" part\n",
    "        x = self.up1(x4)\n",
    "        x = torch.cat([x, x3], dim=1)  #concatenate with x4 with the cropped part from x3 (copy and crop step)\n",
    "        x = self.dc5(x)\n",
    "\n",
    "        x = self.up2(x)\n",
    "        x = torch.cat([x, x2], dim=1)\n",
    "        x = self.dc6(x)\n",
    "                 \n",
    "        x = self.up3(x)\n",
    "        x = torch.cat([x1, x], dim=1)\n",
    "        x = self.dc7(x)\n",
    "\n",
    "        logits = self.outc(x)\n",
    "        return logits"
   ]
  },
  {
   "cell_type": "markdown",
   "metadata": {},
   "source": [
    "Now let's create this architecture."
   ]
  },
  {
   "cell_type": "code",
   "execution_count": 9,
   "metadata": {},
   "outputs": [],
   "source": [
    "device = torch.device('cuda' if torch.cuda.is_available() else 'cpu')\n",
    "model = UNet(input_channels=1, n_classes=5)\n",
    "model = model.to(device)"
   ]
  },
  {
   "cell_type": "markdown",
   "metadata": {},
   "source": [
    "We use a sum of binary cross entropy losses and dice loss for our loss, since image segmentation is actually a classification problem (you can think of it as classifying what object the pixels belong to, if they belong to any.) You're already familiar with cross entropy loss from the lectures. Dice loss is a measure of overlap between the prediction and the ground truth labels and is also used for image segmentation tasks.\n"
   ]
  },
  {
   "cell_type": "code",
   "execution_count": 10,
   "metadata": {},
   "outputs": [],
   "source": [
    "def dice_loss(pred, target, smooth = 1.):\n",
    "    pred = pred.contiguous()\n",
    "    target = target.contiguous()    \n",
    "\n",
    "    intersection = (pred * target).sum(dim=2).sum(dim=2)\n",
    "    \n",
    "    loss = (1 - ((2. * intersection + smooth) / (pred.sum(dim=2).sum(dim=2) + target.sum(dim=2).sum(dim=2) + smooth)))\n",
    "    \n",
    "    return loss.mean()\n",
    "\n",
    "def full_loss(pred, target):\n",
    "    bce_weight = 0.5\n",
    "    bce = F.binary_cross_entropy_with_logits(pred, target)\n",
    "    pred = torch.sigmoid(pred)\n",
    "    dice = dice_loss(pred, target)\n",
    "    loss = bce * bce_weight + dice * (1 - bce_weight)\n",
    "    return loss\n"
   ]
  },
  {
   "cell_type": "markdown",
   "metadata": {},
   "source": [
    "The training code is given below. Fill in the missing part of the training loop! Call the `full_loss` function above to calculate the loss."
   ]
  },
  {
   "cell_type": "code",
   "execution_count": 13,
   "metadata": {},
   "outputs": [],
   "source": [
    "def train_model(model, optimizer, scheduler, num_epochs=10):\n",
    "    best_loss = 1e10\n",
    "    best_model_wts = None\n",
    "    for epoch in range(num_epochs):\n",
    "        print('Epoch {}/{}'.format(epoch, num_epochs - 1))\n",
    "        print('-' * 10)\n",
    "\n",
    "        since = time.time()\n",
    "        for param_group in optimizer.param_groups:\n",
    "            print(\"LR\", param_group['lr'])\n",
    "\n",
    "        ##### TRAINING:\n",
    "        model.train()  # Set model to training mode\n",
    "        epoch_loss = 0\n",
    "        epoch_samples = 0\n",
    "        #load the images and masks\n",
    "        for bi, (inputs, labels) in enumerate(train_dataloader):\n",
    "            print(f\"\\rProcessing batch {bi}/\"\n",
    "                  f\"{len(train_dataloader) - 1}\", end='')\n",
    "            inputs = inputs.to(device).float()\n",
    "            labels = labels.to(device).float()\n",
    "\n",
    "            ### WRITE YOUR CODE HERE: one step of the training loop.\n",
    "            outputs = model(inputs)\n",
    "            loss = full_loss(outputs, labels)\n",
    "            loss.backward()\n",
    "            optimizer.step()\n",
    "            optimizer.zero_grad()\n",
    "\n",
    "            # statistics\n",
    "            epoch_samples +=  inputs.size(0)\n",
    "            epoch_loss += loss.data.cpu().numpy() * inputs.size(0)\n",
    "        print(\"Training epoch loss: {}\".format(epoch_loss/epoch_samples))\n",
    "        scheduler.step()\n",
    "\n",
    "        ##### VALIDATION:\n",
    "        model.eval()   # Set model to evaluate mode\n",
    "        epoch_loss = 0\n",
    "        epoch_samples = 0\n",
    "        for inputs, labels in val_dataloader:\n",
    "            inputs = inputs.to(device).float()\n",
    "            labels = labels.to(device).float()\n",
    "\n",
    "            with torch.no_grad():  # disable gradient calculation\n",
    "                outputs = model(inputs)\n",
    "                loss = full_loss(outputs, labels)\n",
    "\n",
    "                # statistics\n",
    "                epoch_loss += loss.data.cpu().numpy() * inputs.size(0)\n",
    "                epoch_samples +=  inputs.size(0)\n",
    "        print(\"Val epoch loss: {}\".format(epoch_loss/epoch_samples))\n",
    "\n",
    "        # save the model if the loss is the best\n",
    "        if epoch_loss/epoch_samples < best_loss:\n",
    "            print(\"saving best model\")\n",
    "            best_loss = epoch_loss/epoch_samples\n",
    "            best_model_wts = copy.deepcopy(model.state_dict())\n",
    "\n",
    "        time_elapsed = time.time() - since\n",
    "        print('{:.0f}m {:.0f}s'.format(time_elapsed // 60, time_elapsed % 60))\n",
    "\n",
    "    print('Best val loss: {:4f}'.format(best_loss))\n",
    "\n",
    "    # load best model weights\n",
    "    model.load_state_dict(best_model_wts)\n"
   ]
  },
  {
   "cell_type": "markdown",
   "metadata": {},
   "source": [
    "And finally, it is time to train! \n",
    "\n",
    "First we will create the optimizer. This time we will use the Adam optimizer ([optim.Adam](https://pytorch.org/docs/stable/optim.html)). Set the learning rate to 1e-2.\n",
    "\n",
    "We've also created a learning rate scheduler for you, which gradually reduces the learning rate during training, this can be useful to converge to a better solution. The intuition behind it is that the closer we get to a minima, the smaller the step we want to get closer and closer.\n",
    "\n",
    "If you have a GPU with CUDA support, this should be pretty fast! However, **it might take a while if you only train on the CPU**. If this is the case, try it with a reduced number of epochs first. You should be seeing some segmented objects after 3 epochs (but keep in mind that at this point the classification will be likely wrong, i.e. visually the colors will not match)."
   ]
  },
  {
   "cell_type": "code",
   "execution_count": 15,
   "metadata": {},
   "outputs": [
    {
     "name": "stdout",
     "output_type": "stream",
     "text": [
      "Epoch 0/9\n",
      "----------\n",
      "LR 0.01\n"
     ]
    },
    {
     "ename": "IndexError",
     "evalue": "index 1395235 is out of bounds for axis 0 with size 300",
     "output_type": "error",
     "traceback": [
      "\u001B[1;31m---------------------------------------------------------------------------\u001B[0m",
      "\u001B[1;31mIndexError\u001B[0m                                Traceback (most recent call last)",
      "Cell \u001B[1;32mIn[15], line 5\u001B[0m\n\u001B[0;32m      3\u001B[0m optimizer_ft \u001B[38;5;241m=\u001B[39m optim\u001B[38;5;241m.\u001B[39mAdam(model\u001B[38;5;241m.\u001B[39mparameters(), lr\u001B[38;5;241m=\u001B[39m\u001B[38;5;241m1e-2\u001B[39m)  \u001B[38;5;66;03m### WRITE YOUR CODE HERE\u001B[39;00m\n\u001B[0;32m      4\u001B[0m exp_lr_scheduler \u001B[38;5;241m=\u001B[39m lr_scheduler\u001B[38;5;241m.\u001B[39mStepLR(optimizer_ft, step_size\u001B[38;5;241m=\u001B[39m\u001B[38;5;241m3\u001B[39m, gamma\u001B[38;5;241m=\u001B[39m\u001B[38;5;241m0.9\u001B[39m)\n\u001B[1;32m----> 5\u001B[0m \u001B[43mtrain_model\u001B[49m\u001B[43m(\u001B[49m\u001B[43mmodel\u001B[49m\u001B[43m,\u001B[49m\u001B[43m \u001B[49m\u001B[43moptimizer_ft\u001B[49m\u001B[43m,\u001B[49m\u001B[43m \u001B[49m\u001B[43mexp_lr_scheduler\u001B[49m\u001B[43m,\u001B[49m\u001B[43m \u001B[49m\u001B[43mnum_epochs\u001B[49m\u001B[38;5;241;43m=\u001B[39;49m\u001B[38;5;241;43m10\u001B[39;49m\u001B[43m)\u001B[49m\n",
      "Cell \u001B[1;32mIn[13], line 17\u001B[0m, in \u001B[0;36mtrain_model\u001B[1;34m(model, optimizer, scheduler, num_epochs)\u001B[0m\n\u001B[0;32m     15\u001B[0m epoch_samples \u001B[38;5;241m=\u001B[39m \u001B[38;5;241m0\u001B[39m\n\u001B[0;32m     16\u001B[0m \u001B[38;5;66;03m#load the images and masks\u001B[39;00m\n\u001B[1;32m---> 17\u001B[0m \u001B[38;5;28;01mfor\u001B[39;00m bi, (inputs, labels) \u001B[38;5;129;01min\u001B[39;00m \u001B[38;5;28menumerate\u001B[39m(train_dataloader):\n\u001B[0;32m     18\u001B[0m     \u001B[38;5;28mprint\u001B[39m(\u001B[38;5;124mf\u001B[39m\u001B[38;5;124m\"\u001B[39m\u001B[38;5;130;01m\\r\u001B[39;00m\u001B[38;5;124mProcessing batch \u001B[39m\u001B[38;5;132;01m{\u001B[39;00mbi\u001B[38;5;132;01m}\u001B[39;00m\u001B[38;5;124m/\u001B[39m\u001B[38;5;124m\"\u001B[39m\n\u001B[0;32m     19\u001B[0m           \u001B[38;5;124mf\u001B[39m\u001B[38;5;124m\"\u001B[39m\u001B[38;5;132;01m{\u001B[39;00m\u001B[38;5;28mlen\u001B[39m(train_dataloader) \u001B[38;5;241m-\u001B[39m \u001B[38;5;241m1\u001B[39m\u001B[38;5;132;01m}\u001B[39;00m\u001B[38;5;124m\"\u001B[39m, end\u001B[38;5;241m=\u001B[39m\u001B[38;5;124m'\u001B[39m\u001B[38;5;124m'\u001B[39m)\n\u001B[0;32m     20\u001B[0m     inputs \u001B[38;5;241m=\u001B[39m inputs\u001B[38;5;241m.\u001B[39mto(device)\u001B[38;5;241m.\u001B[39mfloat()\n",
      "File \u001B[1;32m~\\miniconda3\\lib\\site-packages\\torch\\utils\\data\\dataloader.py:628\u001B[0m, in \u001B[0;36m_BaseDataLoaderIter.__next__\u001B[1;34m(self)\u001B[0m\n\u001B[0;32m    625\u001B[0m \u001B[38;5;28;01mif\u001B[39;00m \u001B[38;5;28mself\u001B[39m\u001B[38;5;241m.\u001B[39m_sampler_iter \u001B[38;5;129;01mis\u001B[39;00m \u001B[38;5;28;01mNone\u001B[39;00m:\n\u001B[0;32m    626\u001B[0m     \u001B[38;5;66;03m# TODO(https://github.com/pytorch/pytorch/issues/76750)\u001B[39;00m\n\u001B[0;32m    627\u001B[0m     \u001B[38;5;28mself\u001B[39m\u001B[38;5;241m.\u001B[39m_reset()  \u001B[38;5;66;03m# type: ignore[call-arg]\u001B[39;00m\n\u001B[1;32m--> 628\u001B[0m data \u001B[38;5;241m=\u001B[39m \u001B[38;5;28;43mself\u001B[39;49m\u001B[38;5;241;43m.\u001B[39;49m\u001B[43m_next_data\u001B[49m\u001B[43m(\u001B[49m\u001B[43m)\u001B[49m\n\u001B[0;32m    629\u001B[0m \u001B[38;5;28mself\u001B[39m\u001B[38;5;241m.\u001B[39m_num_yielded \u001B[38;5;241m+\u001B[39m\u001B[38;5;241m=\u001B[39m \u001B[38;5;241m1\u001B[39m\n\u001B[0;32m    630\u001B[0m \u001B[38;5;28;01mif\u001B[39;00m \u001B[38;5;28mself\u001B[39m\u001B[38;5;241m.\u001B[39m_dataset_kind \u001B[38;5;241m==\u001B[39m _DatasetKind\u001B[38;5;241m.\u001B[39mIterable \u001B[38;5;129;01mand\u001B[39;00m \\\n\u001B[0;32m    631\u001B[0m         \u001B[38;5;28mself\u001B[39m\u001B[38;5;241m.\u001B[39m_IterableDataset_len_called \u001B[38;5;129;01mis\u001B[39;00m \u001B[38;5;129;01mnot\u001B[39;00m \u001B[38;5;28;01mNone\u001B[39;00m \u001B[38;5;129;01mand\u001B[39;00m \\\n\u001B[0;32m    632\u001B[0m         \u001B[38;5;28mself\u001B[39m\u001B[38;5;241m.\u001B[39m_num_yielded \u001B[38;5;241m>\u001B[39m \u001B[38;5;28mself\u001B[39m\u001B[38;5;241m.\u001B[39m_IterableDataset_len_called:\n",
      "File \u001B[1;32m~\\miniconda3\\lib\\site-packages\\torch\\utils\\data\\dataloader.py:671\u001B[0m, in \u001B[0;36m_SingleProcessDataLoaderIter._next_data\u001B[1;34m(self)\u001B[0m\n\u001B[0;32m    669\u001B[0m \u001B[38;5;28;01mdef\u001B[39;00m \u001B[38;5;21m_next_data\u001B[39m(\u001B[38;5;28mself\u001B[39m):\n\u001B[0;32m    670\u001B[0m     index \u001B[38;5;241m=\u001B[39m \u001B[38;5;28mself\u001B[39m\u001B[38;5;241m.\u001B[39m_next_index()  \u001B[38;5;66;03m# may raise StopIteration\u001B[39;00m\n\u001B[1;32m--> 671\u001B[0m     data \u001B[38;5;241m=\u001B[39m \u001B[38;5;28;43mself\u001B[39;49m\u001B[38;5;241;43m.\u001B[39;49m\u001B[43m_dataset_fetcher\u001B[49m\u001B[38;5;241;43m.\u001B[39;49m\u001B[43mfetch\u001B[49m\u001B[43m(\u001B[49m\u001B[43mindex\u001B[49m\u001B[43m)\u001B[49m  \u001B[38;5;66;03m# may raise StopIteration\u001B[39;00m\n\u001B[0;32m    672\u001B[0m     \u001B[38;5;28;01mif\u001B[39;00m \u001B[38;5;28mself\u001B[39m\u001B[38;5;241m.\u001B[39m_pin_memory:\n\u001B[0;32m    673\u001B[0m         data \u001B[38;5;241m=\u001B[39m _utils\u001B[38;5;241m.\u001B[39mpin_memory\u001B[38;5;241m.\u001B[39mpin_memory(data, \u001B[38;5;28mself\u001B[39m\u001B[38;5;241m.\u001B[39m_pin_memory_device)\n",
      "File \u001B[1;32m~\\miniconda3\\lib\\site-packages\\torch\\utils\\data\\_utils\\fetch.py:58\u001B[0m, in \u001B[0;36m_MapDatasetFetcher.fetch\u001B[1;34m(self, possibly_batched_index)\u001B[0m\n\u001B[0;32m     56\u001B[0m         data \u001B[38;5;241m=\u001B[39m \u001B[38;5;28mself\u001B[39m\u001B[38;5;241m.\u001B[39mdataset\u001B[38;5;241m.\u001B[39m__getitems__(possibly_batched_index)\n\u001B[0;32m     57\u001B[0m     \u001B[38;5;28;01melse\u001B[39;00m:\n\u001B[1;32m---> 58\u001B[0m         data \u001B[38;5;241m=\u001B[39m [\u001B[38;5;28mself\u001B[39m\u001B[38;5;241m.\u001B[39mdataset[idx] \u001B[38;5;28;01mfor\u001B[39;00m idx \u001B[38;5;129;01min\u001B[39;00m possibly_batched_index]\n\u001B[0;32m     59\u001B[0m \u001B[38;5;28;01melse\u001B[39;00m:\n\u001B[0;32m     60\u001B[0m     data \u001B[38;5;241m=\u001B[39m \u001B[38;5;28mself\u001B[39m\u001B[38;5;241m.\u001B[39mdataset[possibly_batched_index]\n",
      "File \u001B[1;32m~\\miniconda3\\lib\\site-packages\\torch\\utils\\data\\_utils\\fetch.py:58\u001B[0m, in \u001B[0;36m<listcomp>\u001B[1;34m(.0)\u001B[0m\n\u001B[0;32m     56\u001B[0m         data \u001B[38;5;241m=\u001B[39m \u001B[38;5;28mself\u001B[39m\u001B[38;5;241m.\u001B[39mdataset\u001B[38;5;241m.\u001B[39m__getitems__(possibly_batched_index)\n\u001B[0;32m     57\u001B[0m     \u001B[38;5;28;01melse\u001B[39;00m:\n\u001B[1;32m---> 58\u001B[0m         data \u001B[38;5;241m=\u001B[39m [\u001B[38;5;28;43mself\u001B[39;49m\u001B[38;5;241;43m.\u001B[39;49m\u001B[43mdataset\u001B[49m\u001B[43m[\u001B[49m\u001B[43midx\u001B[49m\u001B[43m]\u001B[49m \u001B[38;5;28;01mfor\u001B[39;00m idx \u001B[38;5;129;01min\u001B[39;00m possibly_batched_index]\n\u001B[0;32m     59\u001B[0m \u001B[38;5;28;01melse\u001B[39;00m:\n\u001B[0;32m     60\u001B[0m     data \u001B[38;5;241m=\u001B[39m \u001B[38;5;28mself\u001B[39m\u001B[38;5;241m.\u001B[39mdataset[possibly_batched_index]\n",
      "Cell \u001B[1;32mIn[4], line 12\u001B[0m, in \u001B[0;36mSimDataset.__getitem__\u001B[1;34m(self, idx)\u001B[0m\n\u001B[0;32m     10\u001B[0m \u001B[38;5;28;01mdef\u001B[39;00m \u001B[38;5;21m__getitem__\u001B[39m(\u001B[38;5;28mself\u001B[39m, idx):\n\u001B[0;32m     11\u001B[0m     \u001B[38;5;66;03m### WRITE YOUR CODE HERE. Select data and mask at index idx.\u001B[39;00m\n\u001B[1;32m---> 12\u001B[0m     \u001B[38;5;28;01mreturn\u001B[39;00m \u001B[38;5;28;43mself\u001B[39;49m\u001B[38;5;241;43m.\u001B[39;49m\u001B[43minput_images\u001B[49m\u001B[43m[\u001B[49m\u001B[43midx\u001B[49m\u001B[43m]\u001B[49m , \u001B[38;5;28mself\u001B[39m\u001B[38;5;241m.\u001B[39mtarget_masks[idx]\n",
      "\u001B[1;31mIndexError\u001B[0m: index 1395235 is out of bounds for axis 0 with size 300"
     ]
    }
   ],
   "source": [
    "model = UNet(input_channels=1, n_classes=5)\n",
    "model = model.to(device)\n",
    "optimizer_ft = optim.Adam(model.parameters(), lr=1e-2)  ### WRITE YOUR CODE HERE\n",
    "exp_lr_scheduler = lr_scheduler.StepLR(optimizer_ft, step_size=3, gamma=0.9)\n",
    "train_model(model, optimizer_ft, exp_lr_scheduler, num_epochs=10)"
   ]
  },
  {
   "cell_type": "markdown",
   "metadata": {},
   "source": [
    "Now let's see how well we do on the test data! We plot the ground truth masks and the predicted masks side by side below."
   ]
  },
  {
   "cell_type": "code",
   "execution_count": null,
   "metadata": {},
   "outputs": [],
   "source": [
    "# Get the first batch\n",
    "inputs, labels = next(iter(test_dataloader))\n",
    "inputs = inputs.to(device).float()\n",
    "labels = labels.to(device).float()\n",
    "\n",
    "# Predict\n",
    "pred = model(inputs)\n",
    "pred = torch.sigmoid(pred)\n",
    "pred = pred.data.cpu().numpy()\n",
    "\n",
    "# Change channel-order and make 3 channels for matplot\n",
    "input_images_rgb = [x.repeat(3,axis=0).transpose(1,2,0).astype(np.uint8) for x in inputs.cpu().numpy()]\n",
    "\n",
    "# Map each channel (i.e. class) to each color\n",
    "target_masks_rgb = [helper.masks_to_colorimg(x) for x in labels.cpu().numpy()]\n",
    "pred_rgb = [helper.masks_to_colorimg(x) for x in pred]\n",
    "print(\"We plot the input, target, and prediction for the test set:\")\n",
    "helper.plot_side_by_side([input_images_rgb, target_masks_rgb, pred_rgb])"
   ]
  },
  {
   "cell_type": "markdown",
   "metadata": {},
   "source": [
    "**Acknowledgements:**\n",
    "\n",
    "This notebook contains a mix of usuyama's https://github.com/usuyama/pytorch-unet and milesial's https://github.com/milesial/Pytorch-UNet code."
   ]
  },
  {
   "cell_type": "markdown",
   "metadata": {},
   "source": [
    "# Written questions"
   ]
  },
  {
   "cell_type": "markdown",
   "metadata": {},
   "source": [
    "**Q.1** We use a convolution with a kernel of size $K\\times K$ on an image of size $S\\times S$. \n",
    "1. What will be the size of the output if we don't use padding?\n",
    "2. So how much padding should we use to maintain the size $S\\times S$? *Hint:* how to pad each side of the image? Is there a difference when the kernel size is odd vs. even?\n",
    "\n",
    "**A.1**\n",
    "1. (S-K+1) x (S-K+1)\n",
    "2. is kernel is odd -> pad (K-1)/2 on each side . Kernel is pair one side (K-2)/2 the other side K/2 padding."
   ]
  },
  {
   "cell_type": "markdown",
   "metadata": {},
   "source": [
    "**Q.2** CIFAR-10 is an image database that contains color images of size $32\\times32$, which can therefore be represented by $3\\times32\\times32$ arrays (taking the convention of putting the channels first). The goal is to classify them into 10 different classes.\n",
    "        \n",
    "To this end, we use a small Convolutional Neural Network (CNN) made of convolutional layers ($\\texttt{Conv2d}$), max-pooling layers ($\\texttt{MaxPool2d}$), and fully-connected layers ($\\texttt{FC}$), and $\\texttt{ReLU}$ activation functions. Let us parameterize these layers as follows: \n",
    "* $\\texttt{Conv2d(\\#kernels, kernel-size)}$,\n",
    "* $\\texttt{MaxPool2d(kernel-size)}$,\n",
    "* $\\texttt{FC(\\#neurons)}$. \n",
    "\n",
    "For example, a layer denoted as $\\texttt{Conv2d(8, 4)}$ consists of $8$ kernels (or filters) of size $4\\times4$. **All convolutions uses a stride of $1$ without padding.** Additionally, the feature maps can be flattened into a vector before being fed to the fully-connected layer. \n",
    "\n",
    "Given these conventions, we use the following network architecture:\n",
    "    \n",
    "$$\\texttt{Conv2d(16, 5)} \\rightarrow \\texttt{MaxPool2d(2)} \\rightarrow \\texttt{Conv2d(32, 3)} \\rightarrow \\texttt{Conv2d(32, 3)} \\rightarrow \\texttt{MaxPool2d(2)} \\rightarrow \\texttt{FC(10)}$$\n",
    "    \n",
    "What sizes are:\n",
    "1. the feature maps after the second convolution and before the third,\n",
    "2. the input to the fully-connected layer ($\\texttt{FC}$)? \n",
    "\n",
    "**A.2**\n",
    "1. 32*16 x 12 x 12\n",
    "2. 32*32 *16 x 5 x 5\n"
   ]
  },
  {
   "cell_type": "markdown",
   "metadata": {},
   "source": [
    "**Q.3** Considering the same convention as above, but with a dataset that contains color images of size $224\\times224$, build a network to classify them into 100 classes.\n",
    "\n",
    "As constraints for building your network, you need to\n",
    "1. use the three layers presented above,\n",
    "2. have the input to the final fully-connected layers be of size $128*7*7=6'272$,\n",
    "3. and, when using $\\texttt{MaxPool2d}$, you need to make sure that the feature maps are divisible by its kernel-size!\n",
    "\n",
    "**A.3** "
   ]
  },
  {
   "cell_type": "markdown",
   "metadata": {},
   "source": [
    "**Q.4** (MCQ) Select all the correct statement(s) below regarding CNNs:\n",
    "\n",
    "1. MLPs are more robust to translations of the input than CNNs. (Imagine the image of an object, and if we translate that object over the image.)\n",
    "2. Convolutional layers cannot be used to reduce the size of feature maps by a factor of, for example, $2$.\n",
    "3. Increasing the size of the feature maps (i.e., up-sampling them) can be implemented using transposed convolutions.\n",
    "4. Amongst other things, CNNs can be used for image classification but also to output images.\n",
    "\n",
    "**A.4** 3, 4"
   ]
  }
 ],
 "metadata": {
  "kernelspec": {
   "display_name": "Python 3 (ipykernel)",
   "language": "python",
   "name": "python3"
  },
  "language_info": {
   "codemirror_mode": {
    "name": "ipython",
    "version": 3
   },
   "file_extension": ".py",
   "mimetype": "text/x-python",
   "name": "python",
   "nbconvert_exporter": "python",
   "pygments_lexer": "ipython3",
   "version": "3.9.16"
  }
 },
 "nbformat": 4,
 "nbformat_minor": 4
}
